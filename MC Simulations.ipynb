{
 "cells": [
  {
   "cell_type": "markdown",
   "metadata": {},
   "source": [
    "# Monte Carlo Simulations of Call and Put payoffs\n",
    "- Acts as benchmark\n",
    "- GBM to simulate prices\n",
    "- The datasets for MC are the base ones used for IPCA5 and IPCA20 Calls and Puts, simplified to contain only necessary information to run the simulations such as spot price, strike price, time to maturity, risk-free rate and implied volatility to reduce load"
   ]
  },
  {
   "attachments": {
    "image.png": {
     "image/png": "[encoded data removed]"
    }
   },
   "cell_type": "markdown",
   "metadata": {},
   "source": [
    "![image.png](attachment:image.png)"
   ]
  },
  {
   "cell_type": "code",
   "execution_count": null,
   "metadata": {},
   "outputs": [],
   "source": [
    "import dask.dataframe as dd\n",
    "import numpy as np\n",
    "import pandas as pd\n",
    "from tqdm import tqdm"
   ]
  },
  {
   "cell_type": "markdown",
   "metadata": {},
   "source": [
    "## Test Set"
   ]
  },
  {
   "cell_type": "code",
   "execution_count": null,
   "metadata": {},
   "outputs": [],
   "source": [
    "ddf = dd.read_csv('Dataset for MC Test.csv')"
   ]
  },
  {
   "cell_type": "code",
   "execution_count": null,
   "metadata": {},
   "outputs": [],
   "source": [
    "# Parameters\n",
    "num_simulations = 10000\n",
    "dt = 1/252  # daily steps\n",
    "mu = ddf['risk_free']  # drift\n",
    "sigma = ddf['impl_volatility']\n",
    "\n",
    "# Simulating asset paths\n",
    "def monte_carlo_payoffs(row):\n",
    "    S0 = row['spot_price']\n",
    "    K = row['strike_price']\n",
    "    T = row['time_to_maturity_OPT']\n",
    "    r = row['risk_free']\n",
    "    sigma = row['impl_volatility']\n",
    "    \n",
    "    # Random price paths\n",
    "    np.random.seed(42)  # for reproducibility\n",
    "    Z = np.random.standard_normal(num_simulations)\n",
    "    ST = S0 * np.exp((r - 0.5 * sigma**2) * T + sigma * np.sqrt(T) * Z)\n",
    "    \n",
    "    # Calculating payoffs\n",
    "    call_payoffs = np.maximum(ST - K, 0)\n",
    "    put_payoffs = np.maximum(K - ST, 0)\n",
    "    \n",
    "    # Averaging payoffs as benchmark\n",
    "    return pd.Series({\n",
    "        'Monte_Carlo_Call': call_payoffs.mean(),\n",
    "        'Monte_Carlo_Put': put_payoffs.mean()\n",
    "    })\n",
    "\n",
    "# Applying the simulation\n",
    "def apply_monte_carlo(df):\n",
    "    results = []\n",
    "    for _, row in tqdm(df.iterrows(), total=len(df), desc=\"Simulating Monte Carlo Payoffs\"):\n",
    "        results.append(monte_carlo_payoffs(row))\n",
    "    return pd.DataFrame(results)\n",
    "\n",
    "monte_carlo_results = ddf.map_partitions(lambda df: apply_monte_carlo(df)).compute()\n",
    "\n",
    "# Merge with testing set and saving\n",
    "ddf = ddf.compute()\n",
    "ddf = pd.concat([ddf, monte_carlo_results], axis=1)\n",
    "ddf.to_csv('MC Test Results.csv', index=False)"
   ]
  },
  {
   "cell_type": "markdown",
   "metadata": {},
   "source": [
    "## Covid Set"
   ]
  },
  {
   "cell_type": "code",
   "execution_count": null,
   "metadata": {},
   "outputs": [],
   "source": [
    "ddf = dd.read_csv('Dataset for MC COVID.csv')"
   ]
  },
  {
   "cell_type": "code",
   "execution_count": null,
   "metadata": {},
   "outputs": [],
   "source": [
    "# Parameters\n",
    "num_simulations = 10000\n",
    "dt = 1/252  # daily steps\n",
    "mu = ddf['risk_free']  # drift\n",
    "sigma = ddf['impl_volatility']\n",
    "\n",
    "# Simulate asset paths\n",
    "def monte_carlo_payoffs(row):\n",
    "    S0 = row['spot_price']\n",
    "    K = row['strike_price']\n",
    "    T = row['time_to_maturity_OPT']\n",
    "    r = row['risk_free']\n",
    "    sigma = row['impl_volatility']\n",
    "    \n",
    "    # Generate random price paths\n",
    "    np.random.seed(42)  # for reproducibility\n",
    "    Z = np.random.standard_normal(num_simulations)\n",
    "    ST = S0 * np.exp((r - 0.5 * sigma**2) * T + sigma * np.sqrt(T) * Z)\n",
    "    \n",
    "    # Calculate payoffs\n",
    "    call_payoffs = np.maximum(ST - K, 0)\n",
    "    put_payoffs = np.maximum(K - ST, 0)\n",
    "    \n",
    "    # Average payoffs as benchmark\n",
    "    return pd.Series({\n",
    "        'Monte_Carlo_Call': call_payoffs.mean(),\n",
    "        'Monte_Carlo_Put': put_payoffs.mean()\n",
    "    })\n",
    "\n",
    "# Apply the simulation with tqdm progress bar\n",
    "def apply_monte_carlo(df):\n",
    "    results = []\n",
    "    for _, row in tqdm(df.iterrows(), total=len(df), desc=\"Simulating Monte Carlo Payoffs\"):\n",
    "        results.append(monte_carlo_payoffs(row))\n",
    "    return pd.DataFrame(results)\n",
    "\n",
    "monte_carlo_results = ddf.map_partitions(lambda df: apply_monte_carlo(df)).compute()\n",
    "\n",
    "# Merge with original dataframe\n",
    "ddf = ddf.compute()\n",
    "ddf = pd.concat([ddf, monte_carlo_results], axis=1)\n",
    "\n",
    "# Save or proceed with your enhanced dataset\n",
    "ddf.to_csv('MC COVID Results.csv', index=False)\n"
   ]
  }
 ],
 "metadata": {
  "language_info": {
   "name": "python"
  }
 },
 "nbformat": 4,
 "nbformat_minor": 2
}
